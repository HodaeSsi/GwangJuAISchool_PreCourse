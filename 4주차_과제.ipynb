{
  "nbformat": 4,
  "nbformat_minor": 0,
  "metadata": {
    "colab": {
      "name": "4주차 과제.ipynb",
      "provenance": [],
      "collapsed_sections": [],
      "include_colab_link": true
    },
    "kernelspec": {
      "name": "python3",
      "display_name": "Python 3"
    }
  },
  "cells": [
    {
      "cell_type": "markdown",
      "metadata": {
        "id": "view-in-github",
        "colab_type": "text"
      },
      "source": [
        "<a href=\"https://colab.research.google.com/github/HodaeSsi/GwangJuAISchool_PreCourse/blob/master/4%EC%A3%BC%EC%B0%A8_%EA%B3%BC%EC%A0%9C.ipynb\" target=\"_parent\"><img src=\"https://colab.research.google.com/assets/colab-badge.svg\" alt=\"Open In Colab\"/></a>"
      ]
    },
    {
      "cell_type": "markdown",
      "metadata": {
        "id": "wxkL6PjwsI6L",
        "colab_type": "text"
      },
      "source": [
        "# 4주차 과제\n",
        "- 용어 정리\n",
        "- 딥러닝 강의 클론 코딩\n",
        "- 딥러닝 순전파 & 역전파 계산"
      ]
    },
    {
      "cell_type": "markdown",
      "metadata": {
        "id": "ixEtDe6_uGgI",
        "colab_type": "text"
      },
      "source": [
        "## 1. 용어 정리\n",
        "\n",
        "다음 제시된 단어의 정의(설명)를 정리하여 작성 하세요.\n",
        "\n",
        "* 2문장 이상 작성 해 주세요. \n",
        "* 주제(단어)와 크게 벗어나지만 않는다면 정답처리 됩니다.\n",
        "* 강의 뿐 아니라 기타 레퍼런스를 참고하여 작성하셔도 됩니다. (기타 레퍼런스를 참고하신 경우, 해당 레퍼런스를 정리하여 하단에 작성해 주세요.)\n"
      ]
    },
    {
      "cell_type": "markdown",
      "metadata": {
        "id": "0lfwat8eurKZ",
        "colab_type": "text"
      },
      "source": [
        "__(예시)__\n",
        "### 심층 신경망\n",
        ": 입력층과 출력층 사이에 여러 개의 은닉층들로 이뤄진 인공신경망이다. 심층 신경망은 일반적으로 인공신경망과 마찬가지로 복잡한 비선형 관계들을 모델링 할 수 있다. 신층신경망의 목적은 분류 및 수치예측을 하기 위함이고 이미지 트레이닝이나 문자인식과 같은 분야에서 매우 유용하게 쓰이고 있다."
      ]
    },
    {
      "cell_type": "markdown",
      "metadata": {
        "id": "Y8YJNKG_v65A",
        "colab_type": "text"
      },
      "source": [
        "### MCP 뉴런\n",
        ": \"맥컬록-피츠 뉴런\"으로, 인간의 뇌를 뉴런을 통해 간소화하여 표현한 개념. 뇌의 신경세포인 뉴런의 전기적 화학적 출력 과정을 이진 출력을 내는 간단한 논리 회로로 표현했으며, 이는 후에 \"퍼셉트론 학습 개념\"에 기반이 된다.\n",
        "\n",
        "### 퍼셉트론\n",
        ": 자동으로(스스로) 최적의 가중치를 학습하는 알고리즘으로 인간의 뉴런을 모사했다. 다수의 입력과, 각각의 입력에 곱하는 가중치, 출력을 관장하는 임계값과 활성화 함수로 이루어져있다. 임계값과 활성화 함수에 의해 출력된 값을 기대 값과 비교하여 가중치를 조정하는 방식으로 최적의 가중치를 학습하게 된다.  \n",
        "\n",
        "### 역전파\n",
        ": 신경망의 높은 연산량을 해결하기 위해 사용되는 알고리즘. 출력층의 값과 원하는 값(지도 데이터)과의 차이를 확인,이용하여 이전 층의 가중치를 역산하여 업데이트하는 방식이다.\n",
        "\n",
        "### 강화학습\n",
        ": 인공지능의 한 분야로 학습의 대상인 '에이전트'가 '환경'과 상호작용하며 에이전트에게 주어지는 '보상'을 최대로 하는 루트를 여러번의 시행착오를 통해 찾아나가는 방식.\n",
        "\n",
        "### 과적합\n",
        ": 인공지능 학습 과정에 있어서 학습 데이터에만 과도하게 맞추어 학습을 진행할 경우, 새로이 들어오는 데이터에 대한 판단 정확도가 오히려 떨어지는 현상이다.\n",
        "\n",
        "### 차원의 저주\n",
        ": 차원은 단순하게는 데이터의 특성이다. 데이터를 구성(혹은 표현)하는 특성의 개수가 증가할수록 차원이 증가하는 것인데, 이 차원이 증가할수록 차원의 부피가 기하급수적으로 증가한다 즉 밀도가 그만큼 작아지는 건데, 데이터 분석에 있어 한마디로 정리하면 \"차원이 증가하면 분석에 필요한 데이터의 수가 기하급수적 으로 증가한다.\"가 된다. 이와 같은 현상을 \"차원의 저주\"라고 한다.\n"
      ]
    },
    {
      "cell_type": "markdown",
      "metadata": {
        "id": "d-zfFXLCy6jD",
        "colab_type": "text"
      },
      "source": [
        "## 2. 딥러닝 강의 클론 코딩\n",
        "\n",
        "####__퍼셉트론 구조 구현하기__ \n",
        "딥러닝 강의(__딥러닝 원리[1] 3:15 ~ 5:15 부분__)를 보고 코드를 따라 치며 출력 결과를 만드세요.\n",
        " \n",
        "\n",
        "* 하나의 코드셀에 해당 코드를 한번에 다 적어서 실행해주세요 (__그렇게 하지 않을 경우, 아래 이미지와 같은 출력값이 나오지 않을 수 있습니다__)\n",
        "\n",
        "*__주의!__ 실제로 코딩해서 출력해보면 강의에 나온 출력 결과와 다르게 나옵니다!!\n"
      ]
    },
    {
      "cell_type": "markdown",
      "metadata": {
        "id": "wcc5mzI9oZ7r",
        "colab_type": "text"
      },
      "source": [
        "![대체 텍스트](https://www.notion.so/image/https%3A%2F%2Fs3-us-west-2.amazonaws.com%2Fsecure.notion-static.com%2F0cceeed0-0235-4b0f-af88-0b8c377d5b4b%2F_2020-06-09__9.35.23.png?table=block&id=88fd8912-9356-49a4-9fda-a1a63fe96ea9&width=2870&cache=v2)"
      ]
    },
    {
      "cell_type": "code",
      "metadata": {
        "id": "V8ExUVsl0rhW",
        "colab_type": "code",
        "colab": {
          "base_uri": "https://localhost:8080/",
          "height": 210
        },
        "outputId": "6fa652cb-4f20-4a65-8dfc-3df662d0c1c0"
      },
      "source": [
        "import tensorflow as tf\n",
        "tf. compat.v1.set_random_seed(2020)\n",
        "x = 1\n",
        "y = 0\n",
        "w = tf.random.normal([1], 0, 1)\n",
        "\n",
        "import math\n",
        "def sigmoid(x):\n",
        "  return 1/(1+math.exp(-x))\n",
        "\n",
        "output = sigmoid(x * w)\n",
        "print(output)\n",
        "\n",
        "for i in range(1000):\n",
        "  output = sigmoid(x*w)\n",
        "  error = y - output\n",
        "  w = w + x * 0.1 * error\n",
        "\n",
        "  if i % 100 == 99:\n",
        "    print(\"학습 횟수:\", i, \"Error:\", error, \"예측 결과:\", output)"
      ],
      "execution_count": 2,
      "outputs": [
        {
          "output_type": "stream",
          "text": [
            "0.47477188589261\n",
            "학습 횟수: 99 Error: -0.10010598284299604 예측 결과: 0.10010598284299604\n",
            "학습 횟수: 199 Error: -0.05178399422833116 예측 결과: 0.05178399422833116\n",
            "학습 횟수: 299 Error: -0.034590451977903586 예측 결과: 0.034590451977903586\n",
            "학습 횟수: 399 Error: -0.02588962752851373 예측 결과: 0.02588962752851373\n",
            "학습 횟수: 499 Error: -0.020658699939863617 예측 결과: 0.020658699939863617\n",
            "학습 횟수: 599 Error: -0.017174253993457355 예측 결과: 0.017174253993457355\n",
            "학습 횟수: 699 Error: -0.014689506449480992 예측 결과: 0.014689506449480992\n",
            "학습 횟수: 799 Error: -0.012829497265431342 예측 결과: 0.012829497265431342\n",
            "학습 횟수: 899 Error: -0.011385568271837804 예측 결과: 0.011385568271837804\n",
            "학습 횟수: 999 Error: -0.010232493309882492 예측 결과: 0.010232493309882492\n"
          ],
          "name": "stdout"
        }
      ]
    },
    {
      "cell_type": "markdown",
      "metadata": {
        "id": "kr0HVRk8fOom",
        "colab_type": "text"
      },
      "source": [
        "## 3. 딥러닝 순전파 & 역전파 계산\n",
        "\n",
        "딥러닝 강의(__딥러닝 원리[2] 0:55 ~ 4:32 부분__)에 나오는 순전파 & 역전파 계산에 대한 문제 입니다.\n",
        "\n",
        "해당 영상과 다음 이미지를 참고하여 다음 2가지 물음에 답하세요.\n",
        "\n",
        "\n",
        "(1) 학습률이 0.2 일 경우 출력층의 노드값\n",
        "\n",
        "(2) 학습률이 0.1과 0.2 중 기대출력값이 지도데이터 \"3\"과 더 가까운 학습률은?"
      ]
    },
    {
      "cell_type": "markdown",
      "metadata": {
        "id": "CpwPFWhOUzww",
        "colab_type": "text"
      },
      "source": [
        "![대체 텍스트](https://www.notion.so/image/https%3A%2F%2Fs3-us-west-2.amazonaws.com%2Fsecure.notion-static.com%2Ff54dfd45-92ec-44ae-9616-6949d2484a45%2F_2020-06-10__5.22.03.png?table=block&id=ee05da89-3ceb-4ad9-a2d3-c9f68d24d1d9&width=3580&cache=v2)"
      ]
    },
    {
      "cell_type": "markdown",
      "metadata": {
        "id": "B2OVY7w5U3CI",
        "colab_type": "text"
      },
      "source": [
        "## (1) 학습률이 0.2 일 경우 출력층의 노드값 : 1.6\n",
        "## (2) 학습률이 0.1과 0.2 중 기대출력값이 지도데이터 \"3\"과 더 가까운 학습률은? : 0.1"
      ]
    }
  ]
}
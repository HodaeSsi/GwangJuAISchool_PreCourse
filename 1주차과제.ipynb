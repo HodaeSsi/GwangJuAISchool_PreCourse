{
  "nbformat": 4,
  "nbformat_minor": 0,
  "metadata": {
    "colab": {
      "name": "1주차과제.ipynb",
      "provenance": [],
      "collapsed_sections": [],
      "authorship_tag": "ABX9TyMH9ci8Yw1FRjT3XBAse9ey",
      "include_colab_link": true
    },
    "kernelspec": {
      "name": "python3",
      "display_name": "Python 3"
    }
  },
  "cells": [
    {
      "cell_type": "markdown",
      "metadata": {
        "id": "view-in-github",
        "colab_type": "text"
      },
      "source": [
        "<a href=\"https://colab.research.google.com/github/HodaeSsi/GwangJuAISchool_PreCourse/blob/master/1%EC%A3%BC%EC%B0%A8%EA%B3%BC%EC%A0%9C.ipynb\" target=\"_parent\"><img src=\"https://colab.research.google.com/assets/colab-badge.svg\" alt=\"Open In Colab\"/></a>"
      ]
    },
    {
      "cell_type": "markdown",
      "metadata": {
        "id": "solmOqAecpNq",
        "colab_type": "text"
      },
      "source": [
        "### 사례 1: 페이스북 - 딥페이스 시스템\n",
        " 페이스북은 딥러닝이 적용된 딥페이스 알고리즘으로 전세계 이용자의 얼굴을 인식해 특정하고 있다. 인식 정확도는 97.25%로 인간 눈(97.53%)과 거의 차이가 없다. 페이스북은 이용자가 올린 이미지의 얼굴만 측면만 봐도, 어떤 이용자인지 판별해낼 수 있다.\n",
        "\n",
        "### 사례 2: 알파벳 - 인공지능 자율주행 자동차\n",
        " 알파벳은 구글(Google)의 모회사로 자율 주행 기술 관련 사업인 ‘웨이모(Waymo)’ 프로젝트를 시작했다. 현재 웨이모(Waymo)의 자율 주행 차는 캘리포니아에서 ‘자율주행차 시범 승객 서비스’ 참여 승인을 받아 탑승자를 태울 수 있도록 허가 받았다. 다만 아직은 자율주행차를 이용하는 탑승객에게는 요금을 부과할 수 없으며 안전을 위해 운전석에는 반드시 차량 운전자가 동승해야 한다.\n",
        "\n",
        " ### 사례 3: 아마존 - 스마트 스피커와 제품 추천 알고리즘\n",
        "  아마존에서 개발한 인공지능 플랫폼인 알렉사(Alexa)와 함께 아마존 에코(Amazon echo)라는 스마트 스피커를 출시했다. 아마존 에코를 이용해 알렉사와 의사소통을 할 수 있으며 음악재생, 알람설정, 날씨정보 제공 등 많은 기능들을 제공해 준다. 아마존이 인공 지능을 사용하는 또 다른 혁신적인 방법은 제품 구매에 대해 생각하기도 전에 물건을 배송하는 것이다. 각 개인의 구매 습관에 대한 많은 데이터를 수집하고 그들이 수집한 데이터로 어떤 아이템이 고객에게 도움이 되는지 추천하고, 예측 분석을 사용하여 고객들이 필요한 항목을 미리 예측한다.\n",
        "\n",
        "  ### 사례 4: IBM - 토론 전용 인공지능\n",
        " 글로벌 정보기술 기업(IT)인 IBM이 개발한 토론 전용 인공지능(AI) ’프로젝트 디베이터(Project Debater)’는 회사의 최대 성과이다. 인간과의 토론으로 인류의 사고력과 문제 해결력을 발전시키고자 개발하였다. 신문과 학술자료에 실린 100억 개의 문장을 학습해 지식을 축적했고, 이 데이터를 기반으로 명확한 논리를 전달할 수 있으며 수준급의 문장 조합 실력을 자랑한다. 토론 중 농담을 하기도 하며 때론 단호하고 거칠게 응수하기도 한다."
      ]
    }
  ]
}